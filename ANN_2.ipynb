{
 "cells": [
  {
   "cell_type": "markdown",
   "id": "bccad701",
   "metadata": {},
   "source": [
    "# ANN Model - Main"
   ]
  },
  {
   "cell_type": "code",
   "execution_count": 30,
   "id": "7bcb3c62",
   "metadata": {},
   "outputs": [],
   "source": [
    "import traceback\n",
    "\n",
    "try:\n",
    "    import numpy as np\n",
    "    import pandas as pd\n",
    "    import sklearn\n",
    "    import scipy as sp\n",
    "    import math\n",
    "    import matplotlib.pyplot as plt\n",
    "    import seaborn as sns\n",
    "    import datetime\n",
    "    import csv\n",
    "    import os\n",
    "    import code\n",
    "    import time\n",
    "    import statsmodels.api as sm\n",
    "\n",
    "    from sklearn.neural_network import MLPRegressor\n",
    "    from sklearn.datasets import make_regression\n",
    "    from sklearn.model_selection import train_test_split\n",
    "    from sklearn.model_selection import train_test_split\n",
    "    from sklearn.metrics import mean_squared_error, r2_score\n",
    "    \n",
    "    import warnings\n",
    "    warnings.filterwarnings('ignore')\n",
    "\n",
    "\n",
    "except:\n",
    "    \n",
    "    print(traceback.print_exc())\n",
    "    input(\"\\nError BC.\\n\")\n",
    "\n"
   ]
  },
  {
   "cell_type": "code",
   "execution_count": 9,
   "id": "3afdad37",
   "metadata": {},
   "outputs": [],
   "source": [
    "# Dataset after the pre-processing\n",
    "\n",
    "data0 = pd.read_csv(r\"data0.csv\", decimal = \",\")\n",
    "data0[\"date\"] = data0[\"date\"].astype('datetime64[ns]')"
   ]
  },
  {
   "cell_type": "code",
   "execution_count": 10,
   "id": "357dc118",
   "metadata": {},
   "outputs": [],
   "source": [
    "nor_data0 = data0.iloc[:,1:22]\n",
    "norm_data0=(nor_data0-nor_data0.min())/(nor_data0.max()-nor_data0.min())"
   ]
  },
  {
   "cell_type": "code",
   "execution_count": 11,
   "id": "6017f105",
   "metadata": {},
   "outputs": [],
   "source": [
    "X_0 = norm_data0\n",
    "y_0 = data0[\"% Silica Concentrate\"]"
   ]
  },
  {
   "cell_type": "code",
   "execution_count": 13,
   "id": "352a3801",
   "metadata": {},
   "outputs": [],
   "source": [
    "X_1 = X_0.sample(frac = 0.70)\n",
    "y_1 = y_0[X_1.index]\n",
    "X_train, X_test, y_train, y_test = train_test_split(X_1, y_1, test_size = 0.3, random_state = 1)"
   ]
  },
  {
   "cell_type": "code",
   "execution_count": 14,
   "id": "2b169284",
   "metadata": {},
   "outputs": [
    {
     "name": "stdout",
     "output_type": "stream",
     "text": [
      "Iteration 1, loss = 0.45079204\n",
      "Iteration 2, loss = 0.33872159\n",
      "Iteration 3, loss = 0.27895951\n",
      "Iteration 4, loss = 0.24189791\n",
      "Iteration 5, loss = 0.21883027\n",
      "Iteration 6, loss = 0.20033142\n",
      "Iteration 7, loss = 0.18441846\n",
      "Iteration 8, loss = 0.17192647\n",
      "Iteration 9, loss = 0.16167939\n",
      "Iteration 10, loss = 0.15272827\n",
      "Iteration 11, loss = 0.14581090\n",
      "Iteration 12, loss = 0.13905686\n",
      "Iteration 13, loss = 0.13336447\n",
      "Iteration 14, loss = 0.12819887\n",
      "Iteration 15, loss = 0.12324270\n",
      "Iteration 16, loss = 0.11947942\n",
      "Iteration 17, loss = 0.11513542\n",
      "Iteration 18, loss = 0.11175132\n",
      "Iteration 19, loss = 0.11007535\n",
      "Iteration 20, loss = 0.10600943\n",
      "Iteration 21, loss = 0.10339331\n",
      "Iteration 22, loss = 0.10118138\n",
      "Iteration 23, loss = 0.09886418\n",
      "Iteration 24, loss = 0.09722720\n",
      "Iteration 25, loss = 0.09458662\n",
      "Iteration 26, loss = 0.09334473\n",
      "Iteration 27, loss = 0.09145046\n",
      "Iteration 28, loss = 0.09002704\n",
      "Iteration 29, loss = 0.08863629\n",
      "Iteration 30, loss = 0.08667412\n",
      "Iteration 31, loss = 0.08571256\n",
      "Iteration 32, loss = 0.08448925\n",
      "Iteration 33, loss = 0.08216520\n",
      "Iteration 34, loss = 0.08185457\n",
      "Iteration 35, loss = 0.08055426\n"
     ]
    },
    {
     "data": {
      "text/plain": [
       "MLPRegressor(hidden_layer_sizes=(256, 256, 256, 256), learning_rate='adaptive',\n",
       "             max_iter=1000, random_state=69, verbose='True')"
      ]
     },
     "execution_count": 14,
     "metadata": {},
     "output_type": "execute_result"
    }
   ],
   "source": [
    "regr = MLPRegressor(random_state=69, hidden_layer_sizes = (256,256,256,256), activation = 'relu', solver = 'adam',\n",
    "                    learning_rate = 'adaptive', max_iter = 1000,\n",
    "                    batch_size = 'auto', verbose = 'True')\n",
    "regr.fit(X_train, y_train)\n",
    "\n"
   ]
  },
  {
   "cell_type": "code",
   "execution_count": 16,
   "id": "689fd1ef",
   "metadata": {},
   "outputs": [],
   "source": [
    "y_pred=regr.predict(X_test)"
   ]
  },
  {
   "cell_type": "code",
   "execution_count": 17,
   "id": "c1bf2c00",
   "metadata": {},
   "outputs": [
    {
     "data": {
      "text/plain": [
       "(0.18116265477938967, 0.8571118156551386)"
      ]
     },
     "execution_count": 17,
     "metadata": {},
     "output_type": "execute_result"
    }
   ],
   "source": [
    "mean_squared_error(y_test, y_pred) , r2_score(y_test, y_pred)"
   ]
  },
  {
   "cell_type": "markdown",
   "id": "bcad59e2",
   "metadata": {},
   "source": [
    "filename = 'regr_model_100x100(70-30).sav'\n",
    "import pickle\n",
    "pickle.dump(regr, open(filename, 'wb'))\n"
   ]
  },
  {
   "cell_type": "code",
   "execution_count": 18,
   "id": "2e710924",
   "metadata": {},
   "outputs": [
    {
     "name": "stdout",
     "output_type": "stream",
     "text": [
      "Mean Squared Error: 0.18116265477938967\n",
      "R2 Score: 0.8571118156551386\n",
      "Mean Absolute Error: 0.276748172069098\n",
      "Mean Squared Error: 0.18116265477938967\n",
      "Root Mean Squared Error: 0.42563206502728346\n"
     ]
    },
    {
     "data": {
      "image/png": "[encoded data removed]",
      "text/plain": [
       "<Figure size 432x288 with 1 Axes>"
      ]
     },
     "metadata": {
      "needs_background": "light"
     },
     "output_type": "display_data"
    }
   ],
   "source": [
    "\"\"\"(random_state=69, hidden_layer_sizes = (256,256,256,256),\n",
    "                    activation = 'relu', solver = 'adam',\n",
    "                    learning_rate = 'adaptive', max_iter = 1000,\n",
    "                    batch_size = 'auto', verbose = 'True')\n",
    "\"\"\"\n",
    "\n",
    "plt.plot(regr.loss_curve_)\n",
    "plt.ylim([0,0.5])\n",
    "plt.xlim([0,30])\n",
    "\n",
    "\n",
    "print('Mean Squared Error:', mean_squared_error(y_test, y_pred)) \n",
    "\n",
    "print('R2 Score:', r2_score(y_test, y_pred))\n",
    "\n",
    "print('Mean Absolute Error:',\n",
    "      sklearn.metrics.mean_absolute_error(y_test, y_pred))  \n",
    "print('Mean Squared Error:',\n",
    "      sklearn.metrics.mean_squared_error(y_test, y_pred))\n",
    "print('Root Mean Squared Error:',\n",
    "      np.sqrt(sklearn.metrics.mean_squared_error(y_test, y_pred)))\n",
    "\n",
    "\n"
   ]
  },
  {
   "cell_type": "code",
   "execution_count": 59,
   "id": "7df8e2f1",
   "metadata": {},
   "outputs": [
    {
     "data": {
      "image/png": "[encoded data removed]",
      "text/plain": [
       "<Figure size 432x288 with 1 Axes>"
      ]
     },
     "metadata": {
      "needs_background": "light"
     },
     "output_type": "display_data"
    }
   ],
   "source": [
    "\"\"\"\n",
    "\n",
    "From scatter plots of Actual vs Predicted You can tell how well\n",
    "the model is performing. For Ideal model, the points should be\n",
    "closer to a diagonal line.\n",
    "\n",
    "\"\"\"\n",
    "\n",
    "plt.scatter(y_test[0:1000],y_pred[0:1000])\n",
    "plt.show()"
   ]
  },
  {
   "cell_type": "code",
   "execution_count": 51,
   "id": "1b333e15",
   "metadata": {},
   "outputs": [
    {
     "data": {
      "image/png": "[encoded data removed]",
      "text/plain": [
       "<Figure size 432x288 with 1 Axes>"
      ]
     },
     "metadata": {
      "needs_background": "light"
     },
     "output_type": "display_data"
    }
   ],
   "source": [
    "#Histogram of residual\n",
    "\n",
    "\"\"\"\n",
    "\n",
    "Residuals in a statistical or machine learning model are\n",
    "the differences between observed and predicted values of data.\n",
    "\n",
    "One of the assumption in Linear regression is that the residual\n",
    "should be normally distributed, if your model’s residual is not\n",
    "normally distributed it will not have a bell shaped curve which\n",
    "indicates that your model is not bias and in this case for your\n",
    "dateset regression may not be an appropriate choice.\n",
    "\n",
    "\"\"\"\n",
    "\n",
    "plt.hist((y_pred-y_test), bins = np.arange(-4,4,0.1))\n",
    "plt.show()"
   ]
  },
  {
   "cell_type": "code",
   "execution_count": 57,
   "id": "8cc0bdba",
   "metadata": {},
   "outputs": [
    {
     "data": {
      "image/png": "[encoded data removed]",
      "text/plain": [
       "<Figure size 432x288 with 1 Axes>"
      ]
     },
     "metadata": {
      "needs_background": "light"
     },
     "output_type": "display_data"
    }
   ],
   "source": [
    "\"\"\"\n",
    "\n",
    "In this scatter plot the y axis represents\n",
    "residuals and the x axis represented fitted values\n",
    "or predicted value. This plot is used to detect non-linearity,\n",
    "unequal error variances, and outliers in the model.\n",
    "\n",
    "\n",
    "Here we compare the first 1000 datapoints.\n",
    "\n",
    "\"\"\"\n",
    "\n",
    "plt.scatter(y_test[0:1000], (y_pred[0:1000]-y_test[0:1000]))\n",
    "plt.show()"
   ]
  }
 ],
 "metadata": {
  "kernelspec": {
   "display_name": "Python 3",
   "language": "python",
   "name": "python3"
  },
  "language_info": {
   "codemirror_mode": {
    "name": "ipython",
    "version": 3
   },
   "file_extension": ".py",
   "mimetype": "text/x-python",
   "name": "python",
   "nbconvert_exporter": "python",
   "pygments_lexer": "ipython3",
   "version": "3.8.10"
  }
 },
 "nbformat": 4,
 "nbformat_minor": 5
}
