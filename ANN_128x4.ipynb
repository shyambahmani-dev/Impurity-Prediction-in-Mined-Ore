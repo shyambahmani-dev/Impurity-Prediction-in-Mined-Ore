{
 "cells": [
  {
   "cell_type": "code",
   "execution_count": null,
   "id": "4200f6c3",
   "metadata": {},
   "outputs": [],
   "source": [
    "#ANN Model - Main"
   ]
  },
  {
   "cell_type": "code",
   "execution_count": 143,
   "id": "7bcb3c62",
   "metadata": {},
   "outputs": [],
   "source": [
    "import traceback\n",
    "\n",
    "try:\n",
    "    import numpy as np\n",
    "    import pandas as pd\n",
    "    import sklearn\n",
    "    import scipy as sp\n",
    "    import math\n",
    "    import matplotlib.pyplot as plt\n",
    "    import seaborn as sns\n",
    "    import datetime\n",
    "    import csv\n",
    "    import os\n",
    "    import code\n",
    "    import time\n",
    "    import statsmodels.api as sm\n",
    "    import pickle\n",
    "    \n",
    "    from sklearn.neural_network import MLPRegressor\n",
    "    from sklearn.datasets import make_regression\n",
    "    from sklearn.model_selection import train_test_split\n",
    "    from sklearn.model_selection import train_test_split\n",
    "    from sklearn.metrics import mean_squared_error, r2_score\n",
    "    \n",
    "    import warnings\n",
    "    warnings.filterwarnings('ignore')\n",
    "\n",
    "\n",
    "except:\n",
    "    \n",
    "    print(traceback.print_exc())\n",
    "    input(\"\\nError BC.\\n\")\n",
    "\n"
   ]
  },
  {
   "cell_type": "code",
   "execution_count": 105,
   "id": "3afdad37",
   "metadata": {},
   "outputs": [],
   "source": [
    "data0 = pd.read_csv(r\"data0.csv\", decimal = \",\")\n",
    "data0[\"date\"] = data0[\"date\"].astype('datetime64[ns]')"
   ]
  },
  {
   "cell_type": "code",
   "execution_count": 106,
   "id": "357dc118",
   "metadata": {},
   "outputs": [],
   "source": [
    "nor_data0 = data0.iloc[:,1:22]\n",
    "\n",
    "norm_data0=(nor_data0-nor_data0.min())/(nor_data0.max()-nor_data0.min())"
   ]
  },
  {
   "cell_type": "code",
   "execution_count": 107,
   "id": "352a3801",
   "metadata": {},
   "outputs": [],
   "source": [
    "X_1 = X_0.sample(frac = 0.70)\n",
    "y_1 = y_0[X_1.index]\n",
    "X_train, X_test, y_train, y_test = train_test_split(X_1, y_1, test_size = 0.3, random_state = 1)"
   ]
  },
  {
   "cell_type": "code",
   "execution_count": 62,
   "id": "2b169284",
   "metadata": {},
   "outputs": [
    {
     "name": "stdout",
     "output_type": "stream",
     "text": [
      "Iteration 1, loss = 0.46630689\n",
      "Iteration 2, loss = 0.36452831\n",
      "Iteration 3, loss = 0.31781520\n",
      "Iteration 4, loss = 0.28793707\n",
      "Iteration 5, loss = 0.26647434\n",
      "Iteration 6, loss = 0.24974475\n",
      "Iteration 7, loss = 0.23611522\n",
      "Iteration 8, loss = 0.22522191\n",
      "Iteration 9, loss = 0.21518487\n",
      "Iteration 10, loss = 0.20756254\n",
      "Iteration 11, loss = 0.20064387\n",
      "Iteration 12, loss = 0.19348142\n",
      "Iteration 13, loss = 0.18804755\n",
      "Iteration 14, loss = 0.18247011\n",
      "Iteration 15, loss = 0.17785762\n",
      "Iteration 16, loss = 0.17375842\n",
      "Iteration 17, loss = 0.16988770\n",
      "Iteration 18, loss = 0.16642840\n",
      "Iteration 19, loss = 0.16274631\n",
      "Iteration 20, loss = 0.16004633\n",
      "Iteration 21, loss = 0.15733007\n",
      "Iteration 22, loss = 0.15441156\n",
      "Iteration 23, loss = 0.15274089\n",
      "Iteration 24, loss = 0.14971344\n",
      "Iteration 25, loss = 0.14785448\n",
      "Iteration 26, loss = 0.14642694\n",
      "Iteration 27, loss = 0.14335171\n",
      "Iteration 28, loss = 0.14183208\n",
      "Iteration 29, loss = 0.14011170\n",
      "Iteration 30, loss = 0.13818468\n",
      "Iteration 31, loss = 0.13689929\n",
      "Iteration 32, loss = 0.13436709\n",
      "Iteration 33, loss = 0.13337811\n",
      "Iteration 34, loss = 0.13192278\n",
      "Iteration 35, loss = 0.13082015\n",
      "Iteration 36, loss = 0.12895950\n",
      "Iteration 37, loss = 0.12775205\n",
      "Iteration 38, loss = 0.12672328\n",
      "Iteration 39, loss = 0.12546602\n",
      "Iteration 40, loss = 0.12518256\n",
      "Iteration 41, loss = 0.12339924\n",
      "Iteration 42, loss = 0.12252166\n",
      "Iteration 43, loss = 0.12142297\n",
      "Iteration 44, loss = 0.12080648\n",
      "Iteration 45, loss = 0.11942162\n",
      "Iteration 46, loss = 0.11847383\n",
      "Iteration 47, loss = 0.11753281\n",
      "Iteration 48, loss = 0.11647876\n",
      "Iteration 49, loss = 0.11596946\n",
      "Iteration 50, loss = 0.11559278\n"
     ]
    },
    {
     "name": "stderr",
     "output_type": "stream",
     "text": [
      "C:\\Users\\Shyam Bahmani\\anaconda3\\lib\\site-packages\\sklearn\\neural_network\\_multilayer_perceptron.py:699: UserWarning: Training interrupted by user.\n",
      "  warnings.warn(\"Training interrupted by user.\")\n"
     ]
    },
    {
     "data": {
      "text/plain": [
       "MLPRegressor(hidden_layer_sizes=(128, 128, 128, 128), learning_rate='adaptive',\n",
       "             max_iter=1000, random_state=69, verbose='True')"
      ]
     },
     "execution_count": 62,
     "metadata": {},
     "output_type": "execute_result"
    }
   ],
   "source": [
    "regr = MLPRegressor(random_state=69, hidden_layer_sizes = (128,128,128,128), activation = 'relu', solver = 'adam',\n",
    "                    learning_rate = 'adaptive', max_iter = 1000,\n",
    "                    batch_size = 'auto', verbose = 'True')\n",
    "regr.fit(X_train, y_train)\n",
    "\n"
   ]
  },
  {
   "cell_type": "code",
   "execution_count": 108,
   "id": "689fd1ef",
   "metadata": {},
   "outputs": [],
   "source": [
    "y_pred=regr.predict(X_test)"
   ]
  },
  {
   "cell_type": "code",
   "execution_count": 109,
   "id": "c1bf2c00",
   "metadata": {},
   "outputs": [
    {
     "data": {
      "text/plain": [
       "(0.2314995516941555, 0.817426935748228)"
      ]
     },
     "execution_count": 109,
     "metadata": {},
     "output_type": "execute_result"
    }
   ],
   "source": [
    "mean_squared_error(y_test, y_pred) , r2_score(y_test, y_pred)"
   ]
  },
  {
   "cell_type": "markdown",
   "id": "bcad59e2",
   "metadata": {},
   "source": [
    "filename = 'regr_model_100x100(70-30).sav'\n",
    "import pickle\n",
    "pickle.dump(regr, open(filename, 'wb'))\n"
   ]
  },
  {
   "cell_type": "code",
   "execution_count": 134,
   "id": "2e710924",
   "metadata": {},
   "outputs": [
    {
     "name": "stdout",
     "output_type": "stream",
     "text": [
      "Mean Squared Error: 0.2314995516941555\n",
      "R2 Score: 0.817426935748228\n",
      "Mean Absolute Error: 0.3312236672273799\n",
      "Mean Squared Error: 0.2314995516941555\n",
      "Root Mean Squared Error: 0.4811440030740854\n"
     ]
    },
    {
     "data": {
      "image/png": "[encoded data removed]",
      "text/plain": [
       "<Figure size 432x288 with 1 Axes>"
      ]
     },
     "metadata": {
      "needs_background": "light"
     },
     "output_type": "display_data"
    }
   ],
   "source": [
    "\n",
    "\n",
    "\"\"\"(random_state=69, hidden_layer_sizes = (128,128,128,128),\n",
    "                    activation = 'relu', solver = 'adam',\n",
    "                    learning_rate = 'adaptive', max_iter = 1000,\n",
    "                    batch_size = 'auto', verbose = 'True')\n",
    "\"\"\"\n",
    "\n",
    "plt.plot(regr.loss_curve_)\n",
    "plt.ylim([0,0.5])\n",
    "plt.xlim([0,30])\n",
    "\n",
    "\n",
    "print('Mean Squared Error:', mean_squared_error(y_test, y_pred)) \n",
    "\n",
    "print('R2 Score:', r2_score(y_test, y_pred))\n",
    "\n",
    "print('Mean Absolute Error:',\n",
    "      sklearn.metrics.mean_absolute_error(y_test, y_pred))  \n",
    "print('Mean Squared Error:',\n",
    "      sklearn.metrics.mean_squared_error(y_test, y_pred))\n",
    "print('Root Mean Squared Error:',\n",
    "      np.sqrt(sklearn.metrics.mean_squared_error(y_test, y_pred)))\n",
    "\n",
    "\n"
   ]
  },
  {
   "cell_type": "code",
   "execution_count": 137,
   "id": "e6b35a13",
   "metadata": {
    "scrolled": true
   },
   "outputs": [
    {
     "data": {
      "image/png": "[encoded data removed]",
      "text/plain": [
       "<Figure size 432x288 with 1 Axes>"
      ]
     },
     "metadata": {
      "needs_background": "light"
     },
     "output_type": "display_data"
    }
   ],
   "source": [
    "\"\"\"\n",
    "\n",
    "From scatter plots of Actual vs Predicted You can tell how well\n",
    "the model is performing. For Ideal model, the points should be\n",
    "closer to a diagonal line.\n",
    "\n",
    "\"\"\"\n",
    "\n",
    "plt.scatter(y_test[0:1000],y_pred[0:1000])\n",
    "plt.show()"
   ]
  },
  {
   "cell_type": "code",
   "execution_count": 138,
   "id": "95d2395e",
   "metadata": {},
   "outputs": [
    {
     "data": {
      "image/png": "[encoded data removed]",
      "text/plain": [
       "<Figure size 432x288 with 1 Axes>"
      ]
     },
     "metadata": {
      "needs_background": "light"
     },
     "output_type": "display_data"
    }
   ],
   "source": [
    "#Histogram of residual\n",
    "\n",
    "\"\"\"\n",
    "\n",
    "Residuals in a statistical or machine learning model are\n",
    "the differences between observed and predicted values of data.\n",
    "\n",
    "One of the assumption in Linear regression is that the residual\n",
    "should be normally distributed, if your model’s residual is not\n",
    "normally distributed it will not have a bell shaped curve which\n",
    "indicates that your model is not bias and in this case for your\n",
    "dateset regression may not be an appropriate choice.\n",
    "\n",
    "\"\"\"\n",
    "\n",
    "plt.hist((y_pred-y_test), bins = np.arange(-4,4,0.1))\n",
    "plt.show()"
   ]
  },
  {
   "cell_type": "code",
   "execution_count": 139,
   "id": "69b1d45e",
   "metadata": {
    "scrolled": true
   },
   "outputs": [
    {
     "data": {
      "image/png": "[encoded data removed]",
      "text/plain": [
       "<Figure size 432x288 with 1 Axes>"
      ]
     },
     "metadata": {
      "needs_background": "light"
     },
     "output_type": "display_data"
    }
   ],
   "source": [
    "\"\"\"\n",
    "\n",
    "In this scatter plot the y axis represents\n",
    "residuals and the x axis represented fitted values\n",
    "or predicted value. This plot is used to detect non-linearity,\n",
    "unequal error variances, and outliers in the model.\n",
    "\n",
    "\n",
    "Here we compare the first 1000 datapoints.\n",
    "\n",
    "\"\"\"\n",
    "\n",
    "plt.scatter(y_test[0:1000], (y_pred[0:1000]-y_test[0:1000]))\n",
    "plt.show()"
   ]
  },
  {
   "cell_type": "code",
   "execution_count": 145,
   "id": "8d413514",
   "metadata": {},
   "outputs": [],
   "source": [
    "filename = 'D:\\IME672A\\ANN_128x4.sav'\n",
    "pickle.dump(regr, open(filename, 'wb'))"
   ]
  }
 ],
 "metadata": {
  "kernelspec": {
   "display_name": "Python 3 (ipykernel)",
   "language": "python",
   "name": "python3"
  },
  "language_info": {
   "codemirror_mode": {
    "name": "ipython",
    "version": 3
   },
   "file_extension": ".py",
   "mimetype": "text/x-python",
   "name": "python",
   "nbconvert_exporter": "python",
   "pygments_lexer": "ipython3",
   "version": "3.9.12"
  }
 },
 "nbformat": 4,
 "nbformat_minor": 5
}
